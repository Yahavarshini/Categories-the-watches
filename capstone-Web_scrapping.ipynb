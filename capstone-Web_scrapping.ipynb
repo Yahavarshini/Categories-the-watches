{
 "cells": [
  {
   "cell_type": "code",
   "execution_count": 31,
   "id": "32684f1a-6c13-42df-95d3-f83ccf8eadb9",
   "metadata": {},
   "outputs": [],
   "source": [
    "import requests\n",
    "import os\n",
    "import json\n",
    "import csv\n"
   ]
  },
  {
   "cell_type": "code",
   "execution_count": 33,
   "id": "b6289239-d3ad-4875-9123-17e2b4a5bf8f",
   "metadata": {},
   "outputs": [
    {
     "name": "stdout",
     "output_type": "stream",
     "text": [
      "Loaded API Key: 956e54502c37e7205167e7e52e3a4a2732cedd812713987dc475fd469bb8dc71\n"
     ]
    }
   ],
   "source": [
    "secret_api_key = '956e54502c37e7205167e7e52e3a4a2732cedd812713987dc475fd469bb8dc71'\n",
    "print(\"Loaded API Key:\", secret_api_key)"
   ]
  },
  {
   "cell_type": "code",
   "execution_count": 59,
   "id": "6a1063fa-d65b-4928-87ad-d7d0acfbe32a",
   "metadata": {},
   "outputs": [],
   "source": [
    "params = {\n",
    "    \"api_key\": secret_api_key,\n",
    "    \"engine\": \"amazon\",\n",
    "    \"k\": \"Digital Watches\",\n",
    "    \"amazon_domain\": \"amazon.in\",\n",
    "    \"page\":1\n",
    "}\n",
    "\n",
    "search = requests.get(\"https://serpapi.com/search\", params=params)\n",
    "response = search.json()\n",
    "\n",
    "#print(json.dumps(response,indent=2))  "
   ]
  },
  {
   "cell_type": "code",
   "execution_count": 83,
   "id": "ef3dea35-4da3-41f7-b513-1e0eaab35398",
   "metadata": {},
   "outputs": [],
   "source": [
    "# for result in response.get(\"organic_results\", []):\n",
    "#     title = result.get(\"title\")\n",
    "#     brand = result.get(\"brand\")\n",
    "#     thumbnail = result.get(\"thumbnail\")\n",
    "#     price = result.get(\"price\")\n",
    "#     rating = result.get(\"rating\")\n",
    "#     reviews = result.get(\"reviews\")\n",
    "#     link = result.get(\"link\")\n",
    "    \n",
    "#     print(f\"Title: {title}\")\n",
    "#     print(f\"Brand: {brand}\")\n",
    "#     print(f\"Thumbnail: {thumbnail}\")\n",
    "#     print(f\"Price: {price}\")\n",
    "#     print(f\"Rating: {rating}\")\n",
    "#     print(f\"Reviews: {reviews}\")\n",
    "#     print(f\"Link: {link}\")\n",
    "#     print(\"-\" * 10)"
   ]
  },
  {
   "cell_type": "code",
   "execution_count": 61,
   "id": "753fabec-6560-411e-9802-abd5fd11756c",
   "metadata": {},
   "outputs": [
    {
     "name": "stdout",
     "output_type": "stream",
     "text": [
      "Scraping page 1...\n",
      "Scraping page 2...\n",
      "Scraping page 3...\n",
      "Scraping page 4...\n",
      "Scraping page 5...\n",
      "Scraping page 6...\n",
      "Scraping page 7...\n",
      "Scraping page 8...\n",
      "Scraping page 9...\n"
     ]
    }
   ],
   "source": [
    "all_results = []\n",
    "\n",
    "# Loop through multiple pages\n",
    "while True:\n",
    "    print(f\"Scraping page {params['page']}...\")\n",
    "    \n",
    "    response = requests.get(\"https://serpapi.com/search.json\", params=params).json()\n",
    "\n",
    "    organic_results = response.get(\"organic_results\", [])\n",
    "    if not organic_results:\n",
    "        break  # No more results\n",
    "\n",
    "    for result in organic_results:\n",
    "        all_results.append({\n",
    "            \"title\": result.get(\"title\"),\n",
    "            \"brand\": result.get(\"brand\"),\n",
    "            \"price\": result.get(\"price\"),\n",
    "            \"rating\": result.get(\"rating\"),\n",
    "            \"reviews\": result.get(\"reviews\")\n",
    "        })\n",
    "\n",
    "    params[\"page\"] += 1  # Next page\n",
    "\n",
    "# Write to CSV\n",
    "with open(\"digitalwatches.csv\", \"w\", newline=\"\", encoding=\"utf-8\") as csvfile:\n",
    "    fieldnames = [\"title\", \"brand\", \"price\", \"rating\", \"reviews\"]\n",
    "    writer = csv.DictWriter(csvfile, fieldnames=fieldnames)\n",
    "    writer.writeheader()\n",
    "    writer.writerows(all_results)"
   ]
  },
  {
   "cell_type": "code",
   "execution_count": 63,
   "id": "1f517eed-43bd-4e5d-8792-de0bc9c3d0ef",
   "metadata": {},
   "outputs": [
    {
     "name": "stdout",
     "output_type": "stream",
     "text": [
      "Combined CSV saved as 'watches.csv'\n"
     ]
    }
   ],
   "source": [
    "import pandas as pd\n",
    "\n",
    "csv_files = [\"smartwatches.csv\", \"Analogwatches.csv\", \"digitalwatches.csv\"]\n",
    "combined_df = pd.concat([pd.read_csv(file) for file in csv_files], ignore_index=True)\n",
    "combined_df.to_csv(\"watches.csv\", index=False)\n",
    "print(\"Combined CSV saved as 'watches.csv'\")"
   ]
  },
  {
   "cell_type": "code",
   "execution_count": 65,
   "id": "e12250ed-81f4-4ad3-89d2-471784fa170f",
   "metadata": {},
   "outputs": [],
   "source": [
    "df = pd.read_csv(\"watches.csv\")"
   ]
  },
  {
   "cell_type": "code",
   "execution_count": 67,
   "id": "68081140-fa21-492f-b188-77b73c6c295e",
   "metadata": {},
   "outputs": [
    {
     "data": {
      "text/html": [
       "<div>\n",
       "<style scoped>\n",
       "    .dataframe tbody tr th:only-of-type {\n",
       "        vertical-align: middle;\n",
       "    }\n",
       "\n",
       "    .dataframe tbody tr th {\n",
       "        vertical-align: top;\n",
       "    }\n",
       "\n",
       "    .dataframe thead th {\n",
       "        text-align: right;\n",
       "    }\n",
       "</style>\n",
       "<table border=\"1\" class=\"dataframe\">\n",
       "  <thead>\n",
       "    <tr style=\"text-align: right;\">\n",
       "      <th></th>\n",
       "      <th>title</th>\n",
       "      <th>brand</th>\n",
       "      <th>price</th>\n",
       "      <th>rating</th>\n",
       "      <th>reviews</th>\n",
       "    </tr>\n",
       "  </thead>\n",
       "  <tbody>\n",
       "    <tr>\n",
       "      <th>0</th>\n",
       "      <td>Fire-Boltt Ninja Call Pro Plus Smart Watch 1.8...</td>\n",
       "      <td>NaN</td>\n",
       "      <td>₹999</td>\n",
       "      <td>3.9</td>\n",
       "      <td>96054.0</td>\n",
       "    </tr>\n",
       "    <tr>\n",
       "      <th>1</th>\n",
       "      <td>Fire-Boltt Phoenix Smart Watch with Bluetooth ...</td>\n",
       "      <td>NaN</td>\n",
       "      <td>₹1,099</td>\n",
       "      <td>3.9</td>\n",
       "      <td>82577.0</td>\n",
       "    </tr>\n",
       "    <tr>\n",
       "      <th>2</th>\n",
       "      <td>Noise Twist Round dial Smart Watch with Blueto...</td>\n",
       "      <td>NaN</td>\n",
       "      <td>₹1,099</td>\n",
       "      <td>4.0</td>\n",
       "      <td>15003.0</td>\n",
       "    </tr>\n",
       "    <tr>\n",
       "      <th>3</th>\n",
       "      <td>Fire-Boltt Ninja Call Pro Plus Smart Watch 1.8...</td>\n",
       "      <td>NaN</td>\n",
       "      <td>₹999</td>\n",
       "      <td>3.9</td>\n",
       "      <td>96054.0</td>\n",
       "    </tr>\n",
       "    <tr>\n",
       "      <th>4</th>\n",
       "      <td>Noise Pulse 2 Max 1.85\" Display, Bluetooth Cal...</td>\n",
       "      <td>NaN</td>\n",
       "      <td>₹1,099</td>\n",
       "      <td>4.0</td>\n",
       "      <td>17941.0</td>\n",
       "    </tr>\n",
       "  </tbody>\n",
       "</table>\n",
       "</div>"
      ],
      "text/plain": [
       "                                               title brand   price  rating  \\\n",
       "0  Fire-Boltt Ninja Call Pro Plus Smart Watch 1.8...   NaN    ₹999     3.9   \n",
       "1  Fire-Boltt Phoenix Smart Watch with Bluetooth ...   NaN  ₹1,099     3.9   \n",
       "2  Noise Twist Round dial Smart Watch with Blueto...   NaN  ₹1,099     4.0   \n",
       "3  Fire-Boltt Ninja Call Pro Plus Smart Watch 1.8...   NaN    ₹999     3.9   \n",
       "4  Noise Pulse 2 Max 1.85\" Display, Bluetooth Cal...   NaN  ₹1,099     4.0   \n",
       "\n",
       "   reviews  \n",
       "0  96054.0  \n",
       "1  82577.0  \n",
       "2  15003.0  \n",
       "3  96054.0  \n",
       "4  17941.0  "
      ]
     },
     "execution_count": 67,
     "metadata": {},
     "output_type": "execute_result"
    }
   ],
   "source": [
    "df.head()"
   ]
  },
  {
   "cell_type": "code",
   "execution_count": 69,
   "id": "77b95a9d-e1a1-4128-b4c9-be0a835c0ff2",
   "metadata": {},
   "outputs": [
    {
     "data": {
      "text/html": [
       "<div>\n",
       "<style scoped>\n",
       "    .dataframe tbody tr th:only-of-type {\n",
       "        vertical-align: middle;\n",
       "    }\n",
       "\n",
       "    .dataframe tbody tr th {\n",
       "        vertical-align: top;\n",
       "    }\n",
       "\n",
       "    .dataframe thead th {\n",
       "        text-align: right;\n",
       "    }\n",
       "</style>\n",
       "<table border=\"1\" class=\"dataframe\">\n",
       "  <thead>\n",
       "    <tr style=\"text-align: right;\">\n",
       "      <th></th>\n",
       "      <th>title</th>\n",
       "      <th>brand</th>\n",
       "      <th>price</th>\n",
       "      <th>rating</th>\n",
       "      <th>reviews</th>\n",
       "    </tr>\n",
       "  </thead>\n",
       "  <tbody>\n",
       "    <tr>\n",
       "      <th>1195</th>\n",
       "      <td>Boult Newly Launched Crown R Pro Smart Watch 1...</td>\n",
       "      <td>Boult</td>\n",
       "      <td>₹1,799</td>\n",
       "      <td>4.5</td>\n",
       "      <td>120.0</td>\n",
       "    </tr>\n",
       "    <tr>\n",
       "      <th>1196</th>\n",
       "      <td>Analog Digital 3ATM Waterproof Sports Watch fo...</td>\n",
       "      <td>V2A</td>\n",
       "      <td>₹990</td>\n",
       "      <td>4.0</td>\n",
       "      <td>880.0</td>\n",
       "    </tr>\n",
       "    <tr>\n",
       "      <th>1197</th>\n",
       "      <td>Chronograph Ultra-Thin Unisex Multi Function D...</td>\n",
       "      <td>V2A</td>\n",
       "      <td>₹599</td>\n",
       "      <td>3.9</td>\n",
       "      <td>1840.0</td>\n",
       "    </tr>\n",
       "    <tr>\n",
       "      <th>1198</th>\n",
       "      <td>Analogue - Digital Men's Watch (Green Dial Gre...</td>\n",
       "      <td>V2A</td>\n",
       "      <td>₹1,090</td>\n",
       "      <td>4.1</td>\n",
       "      <td>614.0</td>\n",
       "    </tr>\n",
       "    <tr>\n",
       "      <th>1199</th>\n",
       "      <td>S-Shock Military Green Analog Digital Fashion ...</td>\n",
       "      <td>V2A</td>\n",
       "      <td>₹1,090</td>\n",
       "      <td>4.2</td>\n",
       "      <td>263.0</td>\n",
       "    </tr>\n",
       "  </tbody>\n",
       "</table>\n",
       "</div>"
      ],
      "text/plain": [
       "                                                  title  brand   price  \\\n",
       "1195  Boult Newly Launched Crown R Pro Smart Watch 1...  Boult  ₹1,799   \n",
       "1196  Analog Digital 3ATM Waterproof Sports Watch fo...    V2A    ₹990   \n",
       "1197  Chronograph Ultra-Thin Unisex Multi Function D...    V2A    ₹599   \n",
       "1198  Analogue - Digital Men's Watch (Green Dial Gre...    V2A  ₹1,090   \n",
       "1199  S-Shock Military Green Analog Digital Fashion ...    V2A  ₹1,090   \n",
       "\n",
       "      rating  reviews  \n",
       "1195     4.5    120.0  \n",
       "1196     4.0    880.0  \n",
       "1197     3.9   1840.0  \n",
       "1198     4.1    614.0  \n",
       "1199     4.2    263.0  "
      ]
     },
     "execution_count": 69,
     "metadata": {},
     "output_type": "execute_result"
    }
   ],
   "source": [
    "df.tail()"
   ]
  },
  {
   "cell_type": "code",
   "execution_count": 71,
   "id": "5b9411db-db89-4468-867a-ff17bfe2e895",
   "metadata": {},
   "outputs": [],
   "source": [
    "df = df.drop_duplicates()"
   ]
  },
  {
   "cell_type": "code",
   "execution_count": 75,
   "id": "4a23b300-2fc8-4a76-92fd-4b5ae176ab61",
   "metadata": {},
   "outputs": [],
   "source": [
    "df.dropna(inplace=True)"
   ]
  },
  {
   "cell_type": "code",
   "execution_count": 77,
   "id": "f550cc13-121b-4f21-8748-4c97185377dd",
   "metadata": {},
   "outputs": [
    {
     "data": {
      "text/plain": [
       "(585, 5)"
      ]
     },
     "execution_count": 77,
     "metadata": {},
     "output_type": "execute_result"
    }
   ],
   "source": [
    "df.shape"
   ]
  },
  {
   "cell_type": "code",
   "execution_count": 79,
   "id": "951c4acd-6992-4b7f-b1a8-4d15a4be57ff",
   "metadata": {},
   "outputs": [
    {
     "data": {
      "text/plain": [
       "title      0\n",
       "brand      0\n",
       "price      0\n",
       "rating     0\n",
       "reviews    0\n",
       "dtype: int64"
      ]
     },
     "execution_count": 79,
     "metadata": {},
     "output_type": "execute_result"
    }
   ],
   "source": [
    "df.isnull().sum()"
   ]
  },
  {
   "cell_type": "code",
   "execution_count": 81,
   "id": "42678c04-f38a-4cae-8c89-77de6b723bda",
   "metadata": {},
   "outputs": [
    {
     "name": "stdout",
     "output_type": "stream",
     "text": [
      "<class 'pandas.core.frame.DataFrame'>\n",
      "Index: 585 entries, 396 to 1196\n",
      "Data columns (total 5 columns):\n",
      " #   Column   Non-Null Count  Dtype  \n",
      "---  ------   --------------  -----  \n",
      " 0   title    585 non-null    object \n",
      " 1   brand    585 non-null    object \n",
      " 2   price    585 non-null    object \n",
      " 3   rating   585 non-null    float64\n",
      " 4   reviews  585 non-null    float64\n",
      "dtypes: float64(2), object(3)\n",
      "memory usage: 27.4+ KB\n"
     ]
    }
   ],
   "source": [
    "df.info()"
   ]
  }
 ],
 "metadata": {
  "kernelspec": {
   "display_name": "Python [conda env:base] *",
   "language": "python",
   "name": "conda-base-py"
  },
  "language_info": {
   "codemirror_mode": {
    "name": "ipython",
    "version": 3
   },
   "file_extension": ".py",
   "mimetype": "text/x-python",
   "name": "python",
   "nbconvert_exporter": "python",
   "pygments_lexer": "ipython3",
   "version": "3.12.7"
  }
 },
 "nbformat": 4,
 "nbformat_minor": 5
}
